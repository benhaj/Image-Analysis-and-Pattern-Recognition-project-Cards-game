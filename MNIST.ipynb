{
 "cells": [
  {
   "cell_type": "code",
   "execution_count": 1,
   "metadata": {},
   "outputs": [],
   "source": [
    "import torch\n",
    "import torchvision"
   ]
  },
  {
   "cell_type": "code",
   "execution_count": 2,
   "metadata": {},
   "outputs": [
    {
     "data": {
      "text/plain": [
       "<torch._C.Generator at 0x7f804c0ac6b0>"
      ]
     },
     "execution_count": 2,
     "metadata": {},
     "output_type": "execute_result"
    }
   ],
   "source": [
    "n_epochs = 3\n",
    "batch_size_train = 64\n",
    "batch_size_test = 1000\n",
    "learning_rate = 0.01\n",
    "momentum = 0.5\n",
    "log_interval = 10\n",
    "\n",
    "random_seed = 1\n",
    "torch.backends.cudnn.enabled = False\n",
    "torch.manual_seed(random_seed)"
   ]
  },
  {
   "cell_type": "code",
   "execution_count": 6,
   "metadata": {},
   "outputs": [],
   "source": [
    "train_loader = torch.utils.data.DataLoader(\n",
    "  torchvision.datasets.MNIST('./data/', train=True, download=True,\n",
    "                             transform=torchvision.transforms.Compose([\n",
    "                               torchvision.transforms.ToTensor(),\n",
    "                               torchvision.transforms.Normalize(\n",
    "                                 (0.1307,), (0.3081,))\n",
    "                             ])),\n",
    "  batch_size=batch_size_train, shuffle=True)\n",
    "\n",
    "test_loader = torch.utils.data.DataLoader(\n",
    "  torchvision.datasets.MNIST('./data/', train=False, download=True,\n",
    "                             transform=torchvision.transforms.Compose([\n",
    "                               torchvision.transforms.ToTensor(),\n",
    "                               torchvision.transforms.Normalize(\n",
    "                                 (0.1307,), (0.3081,))\n",
    "                             ])),\n",
    "  batch_size=batch_size_test, shuffle=True)"
   ]
  },
  {
   "cell_type": "code",
   "execution_count": 7,
   "metadata": {},
   "outputs": [],
   "source": [
    "examples = enumerate(test_loader)\n",
    "batch_idx, (example_data, example_targets) = next(examples)"
   ]
  },
  {
   "cell_type": "code",
   "execution_count": 11,
   "metadata": {},
   "outputs": [
    {
     "data": {
      "image/png": "[encoded data removed]",
      "text/plain": [
       "<Figure size 432x288 with 6 Axes>"
      ]
     },
     "execution_count": 11,
     "metadata": {},
     "output_type": "execute_result"
    },
    {
     "data": {
      "image/png": "[encoded data removed]",
      "text/plain": [
       "<Figure size 432x288 with 6 Axes>"
      ]
     },
     "metadata": {},
     "output_type": "display_data"
    }
   ],
   "source": [
    "import matplotlib.pyplot as plt\n",
    "\n",
    "fig = plt.figure()\n",
    "for i in range(6):\n",
    "    plt.subplot(2,3,i+1)\n",
    "    plt.tight_layout()\n",
    "    plt.imshow(example_data[i][0], cmap='gray', interpolation='none')\n",
    "    plt.title(\"Ground Truth: {}\".format(example_targets[i]))\n",
    "    plt.xticks([])\n",
    "    plt.yticks([])\n",
    "fig"
   ]
  },
  {
   "cell_type": "code",
   "execution_count": 12,
   "metadata": {},
   "outputs": [],
   "source": [
    "import torch.nn as nn\n",
    "import torch.nn.functional as F\n",
    "import torch.optim as optim"
   ]
  },
  {
   "cell_type": "code",
   "execution_count": 13,
   "metadata": {},
   "outputs": [],
   "source": [
    "class Net(nn.Module):\n",
    "    def __init__(self):\n",
    "        super(Net, self).__init__()\n",
    "        self.conv1 = nn.Conv2d(1, 10, kernel_size=5)\n",
    "        self.conv2 = nn.Conv2d(10, 20, kernel_size=5)\n",
    "        self.conv2_drop = nn.Dropout2d()\n",
    "        self.fc1 = nn.Linear(320, 50)\n",
    "        self.fc2 = nn.Linear(50, 10)\n",
    "\n",
    "    def forward(self, x):\n",
    "        x = F.relu(F.max_pool2d(self.conv1(x), 2))\n",
    "        x = F.relu(F.max_pool2d(self.conv2_drop(self.conv2(x)), 2))\n",
    "        x = x.view(-1, 320)\n",
    "        x = F.relu(self.fc1(x))\n",
    "        x = F.dropout(x, training=self.training)\n",
    "        x = self.fc2(x)\n",
    "        return F.log_softmax(x)"
   ]
  },
  {
   "cell_type": "code",
   "execution_count": 14,
   "metadata": {},
   "outputs": [],
   "source": [
    "network = Net()\n",
    "optimizer = optim.SGD(network.parameters(), lr=learning_rate,\n",
    "                      momentum=momentum)"
   ]
  },
  {
   "cell_type": "code",
   "execution_count": 35,
   "metadata": {},
   "outputs": [],
   "source": [
    "train_losses = []\n",
    "train_counter = []\n",
    "test_losses = []\n",
    "test_counter = [i*len(train_loader.dataset) for i in range(n_epochs + 1)]"
   ]
  },
  {
   "cell_type": "code",
   "execution_count": 36,
   "metadata": {},
   "outputs": [],
   "source": [
    "def train(epoch):\n",
    "    network.train()\n",
    "    for batch_idx, (data, target) in enumerate(train_loader):\n",
    "        optimizer.zero_grad()\n",
    "        output = network(data)\n",
    "        loss = F.nll_loss(output, target)\n",
    "        loss.backward()\n",
    "        optimizer.step()\n",
    "        if batch_idx % log_interval == 0:\n",
    "            print('Train Epoch: {} [{}/{} ({:.0f}%)]\\tLoss: {:.6f}'.format(\n",
    "                epoch, batch_idx * len(data), len(train_loader.dataset),\n",
    "                100. * batch_idx / len(train_loader), loss.item()))\n",
    "            train_losses.append(loss.item())\n",
    "            train_counter.append(\n",
    "                (batch_idx*64) + ((epoch-1)*len(train_loader.dataset)))\n",
    "            torch.save(network.state_dict(), './data/model.pth')\n",
    "            torch.save(optimizer.state_dict(), './data/optimizer.pth')"
   ]
  },
  {
   "cell_type": "code",
   "execution_count": 37,
   "metadata": {},
   "outputs": [],
   "source": [
    "def test():\n",
    "    network.eval()\n",
    "    test_loss = 0\n",
    "    correct = 0\n",
    "    with torch.no_grad():\n",
    "        for data, target in test_loader:\n",
    "            output = network(data)\n",
    "            test_loss += F.nll_loss(output, target, size_average=False).item()\n",
    "            pred = output.data.max(1, keepdim=True)[1]\n",
    "            correct += pred.eq(target.data.view_as(pred)).sum()\n",
    "    test_loss /= len(test_loader.dataset)\n",
    "    test_losses.append(test_loss)\n",
    "    print('\\nTest set: Avg. loss: {:.4f}, Accuracy: {}/{} ({:.0f}%)\\n'.format(\n",
    "        test_loss, correct, len(test_loader.dataset),\n",
    "        100. * correct / len(test_loader.dataset)))"
   ]
  },
  {
   "cell_type": "code",
   "execution_count": 38,
   "metadata": {},
   "outputs": [
    {
     "name": "stderr",
     "output_type": "stream",
     "text": [
      "/home/nabegh/Anaconda3/envs/kaggle/lib/python3.7/site-packages/ipykernel_launcher.py:17: UserWarning: Implicit dimension choice for log_softmax has been deprecated. Change the call to include dim=X as an argument.\n"
     ]
    },
    {
     "name": "stdout",
     "output_type": "stream",
     "text": [
      "\n",
      "Test set: Avg. loss: 0.0951, Accuracy: 9704/10000 (97%)\n",
      "\n",
      "Train Epoch: 1 [0/60000 (0%)]\tLoss: 0.234412\n",
      "Train Epoch: 1 [640/60000 (1%)]\tLoss: 0.110368\n",
      "Train Epoch: 1 [1280/60000 (2%)]\tLoss: 0.151384\n",
      "Train Epoch: 1 [1920/60000 (3%)]\tLoss: 0.357015\n",
      "Train Epoch: 1 [2560/60000 (4%)]\tLoss: 0.260755\n",
      "Train Epoch: 1 [3200/60000 (5%)]\tLoss: 0.368493\n",
      "Train Epoch: 1 [3840/60000 (6%)]\tLoss: 0.298644\n",
      "Train Epoch: 1 [4480/60000 (7%)]\tLoss: 0.176134\n",
      "Train Epoch: 1 [5120/60000 (9%)]\tLoss: 0.336184\n",
      "Train Epoch: 1 [5760/60000 (10%)]\tLoss: 0.285708\n",
      "Train Epoch: 1 [6400/60000 (11%)]\tLoss: 0.427530\n",
      "Train Epoch: 1 [7040/60000 (12%)]\tLoss: 0.196304\n",
      "Train Epoch: 1 [7680/60000 (13%)]\tLoss: 0.182215\n",
      "Train Epoch: 1 [8320/60000 (14%)]\tLoss: 0.215318\n",
      "Train Epoch: 1 [8960/60000 (15%)]\tLoss: 0.325710\n",
      "Train Epoch: 1 [9600/60000 (16%)]\tLoss: 0.245564\n",
      "Train Epoch: 1 [10240/60000 (17%)]\tLoss: 0.204884\n",
      "Train Epoch: 1 [10880/60000 (18%)]\tLoss: 0.264712\n",
      "Train Epoch: 1 [11520/60000 (19%)]\tLoss: 0.178668\n",
      "Train Epoch: 1 [12160/60000 (20%)]\tLoss: 0.304886\n",
      "Train Epoch: 1 [12800/60000 (21%)]\tLoss: 0.136489\n",
      "Train Epoch: 1 [13440/60000 (22%)]\tLoss: 0.214291\n",
      "Train Epoch: 1 [14080/60000 (23%)]\tLoss: 0.566756\n",
      "Train Epoch: 1 [14720/60000 (25%)]\tLoss: 0.088220\n",
      "Train Epoch: 1 [15360/60000 (26%)]\tLoss: 0.205230\n",
      "Train Epoch: 1 [16000/60000 (27%)]\tLoss: 0.213757\n",
      "Train Epoch: 1 [16640/60000 (28%)]\tLoss: 0.479991\n",
      "Train Epoch: 1 [17280/60000 (29%)]\tLoss: 0.381071\n",
      "Train Epoch: 1 [17920/60000 (30%)]\tLoss: 0.510235\n",
      "Train Epoch: 1 [18560/60000 (31%)]\tLoss: 0.247844\n",
      "Train Epoch: 1 [19200/60000 (32%)]\tLoss: 0.173788\n",
      "Train Epoch: 1 [19840/60000 (33%)]\tLoss: 0.163660\n",
      "Train Epoch: 1 [20480/60000 (34%)]\tLoss: 0.166351\n",
      "Train Epoch: 1 [21120/60000 (35%)]\tLoss: 0.266348\n",
      "Train Epoch: 1 [21760/60000 (36%)]\tLoss: 0.435184\n",
      "Train Epoch: 1 [22400/60000 (37%)]\tLoss: 0.095397\n",
      "Train Epoch: 1 [23040/60000 (38%)]\tLoss: 0.227780\n",
      "Train Epoch: 1 [23680/60000 (39%)]\tLoss: 0.322941\n",
      "Train Epoch: 1 [24320/60000 (41%)]\tLoss: 0.282849\n",
      "Train Epoch: 1 [24960/60000 (42%)]\tLoss: 0.129776\n",
      "Train Epoch: 1 [25600/60000 (43%)]\tLoss: 0.146042\n",
      "Train Epoch: 1 [26240/60000 (44%)]\tLoss: 0.166399\n",
      "Train Epoch: 1 [26880/60000 (45%)]\tLoss: 0.116695\n",
      "Train Epoch: 1 [27520/60000 (46%)]\tLoss: 0.314106\n",
      "Train Epoch: 1 [28160/60000 (47%)]\tLoss: 0.342683\n",
      "Train Epoch: 1 [28800/60000 (48%)]\tLoss: 0.281045\n",
      "Train Epoch: 1 [29440/60000 (49%)]\tLoss: 0.195441\n",
      "Train Epoch: 1 [30080/60000 (50%)]\tLoss: 0.082277\n",
      "Train Epoch: 1 [30720/60000 (51%)]\tLoss: 0.282479\n",
      "Train Epoch: 1 [31360/60000 (52%)]\tLoss: 0.260015\n",
      "Train Epoch: 1 [32000/60000 (53%)]\tLoss: 0.327339\n",
      "Train Epoch: 1 [32640/60000 (54%)]\tLoss: 0.196907\n",
      "Train Epoch: 1 [33280/60000 (55%)]\tLoss: 0.199882\n",
      "Train Epoch: 1 [33920/60000 (57%)]\tLoss: 0.237289\n",
      "Train Epoch: 1 [34560/60000 (58%)]\tLoss: 0.200525\n",
      "Train Epoch: 1 [35200/60000 (59%)]\tLoss: 0.349538\n",
      "Train Epoch: 1 [35840/60000 (60%)]\tLoss: 0.287975\n",
      "Train Epoch: 1 [36480/60000 (61%)]\tLoss: 0.405711\n",
      "Train Epoch: 1 [37120/60000 (62%)]\tLoss: 0.212892\n",
      "Train Epoch: 1 [37760/60000 (63%)]\tLoss: 0.130267\n",
      "Train Epoch: 1 [38400/60000 (64%)]\tLoss: 0.271827\n",
      "Train Epoch: 1 [39040/60000 (65%)]\tLoss: 0.209531\n",
      "Train Epoch: 1 [39680/60000 (66%)]\tLoss: 0.140180\n",
      "Train Epoch: 1 [40320/60000 (67%)]\tLoss: 0.276584\n",
      "Train Epoch: 1 [40960/60000 (68%)]\tLoss: 0.145405\n",
      "Train Epoch: 1 [41600/60000 (69%)]\tLoss: 0.291989\n",
      "Train Epoch: 1 [42240/60000 (70%)]\tLoss: 0.208731\n",
      "Train Epoch: 1 [42880/60000 (71%)]\tLoss: 0.365964\n",
      "Train Epoch: 1 [43520/60000 (72%)]\tLoss: 0.294824\n",
      "Train Epoch: 1 [44160/60000 (74%)]\tLoss: 0.143023\n",
      "Train Epoch: 1 [44800/60000 (75%)]\tLoss: 0.177529\n",
      "Train Epoch: 1 [45440/60000 (76%)]\tLoss: 0.323586\n",
      "Train Epoch: 1 [46080/60000 (77%)]\tLoss: 0.099419\n",
      "Train Epoch: 1 [46720/60000 (78%)]\tLoss: 0.375938\n",
      "Train Epoch: 1 [47360/60000 (79%)]\tLoss: 0.329917\n",
      "Train Epoch: 1 [48000/60000 (80%)]\tLoss: 0.312232\n",
      "Train Epoch: 1 [48640/60000 (81%)]\tLoss: 0.252114\n",
      "Train Epoch: 1 [49280/60000 (82%)]\tLoss: 0.247512\n",
      "Train Epoch: 1 [49920/60000 (83%)]\tLoss: 0.107537\n",
      "Train Epoch: 1 [50560/60000 (84%)]\tLoss: 0.406940\n",
      "Train Epoch: 1 [51200/60000 (85%)]\tLoss: 0.147574\n",
      "Train Epoch: 1 [51840/60000 (86%)]\tLoss: 0.156961\n",
      "Train Epoch: 1 [52480/60000 (87%)]\tLoss: 0.196545\n",
      "Train Epoch: 1 [53120/60000 (88%)]\tLoss: 0.161422\n",
      "Train Epoch: 1 [53760/60000 (90%)]\tLoss: 0.281769\n",
      "Train Epoch: 1 [54400/60000 (91%)]\tLoss: 0.166438\n",
      "Train Epoch: 1 [55040/60000 (92%)]\tLoss: 0.188793\n",
      "Train Epoch: 1 [55680/60000 (93%)]\tLoss: 0.277398\n",
      "Train Epoch: 1 [56320/60000 (94%)]\tLoss: 0.195592\n",
      "Train Epoch: 1 [56960/60000 (95%)]\tLoss: 0.191762\n",
      "Train Epoch: 1 [57600/60000 (96%)]\tLoss: 0.143549\n",
      "Train Epoch: 1 [58240/60000 (97%)]\tLoss: 0.360623\n",
      "Train Epoch: 1 [58880/60000 (98%)]\tLoss: 0.311589\n",
      "Train Epoch: 1 [59520/60000 (99%)]\tLoss: 0.101108\n",
      "\n",
      "Test set: Avg. loss: 0.0830, Accuracy: 9734/10000 (97%)\n",
      "\n",
      "Train Epoch: 2 [0/60000 (0%)]\tLoss: 0.212532\n",
      "Train Epoch: 2 [640/60000 (1%)]\tLoss: 0.319482\n",
      "Train Epoch: 2 [1280/60000 (2%)]\tLoss: 0.186574\n",
      "Train Epoch: 2 [1920/60000 (3%)]\tLoss: 0.284243\n",
      "Train Epoch: 2 [2560/60000 (4%)]\tLoss: 0.227349\n",
      "Train Epoch: 2 [3200/60000 (5%)]\tLoss: 0.158780\n",
      "Train Epoch: 2 [3840/60000 (6%)]\tLoss: 0.282326\n",
      "Train Epoch: 2 [4480/60000 (7%)]\tLoss: 0.225215\n",
      "Train Epoch: 2 [5120/60000 (9%)]\tLoss: 0.321727\n",
      "Train Epoch: 2 [5760/60000 (10%)]\tLoss: 0.089272\n",
      "Train Epoch: 2 [6400/60000 (11%)]\tLoss: 0.246210\n",
      "Train Epoch: 2 [7040/60000 (12%)]\tLoss: 0.410373\n",
      "Train Epoch: 2 [7680/60000 (13%)]\tLoss: 0.117946\n",
      "Train Epoch: 2 [8320/60000 (14%)]\tLoss: 0.256071\n",
      "Train Epoch: 2 [8960/60000 (15%)]\tLoss: 0.222908\n",
      "Train Epoch: 2 [9600/60000 (16%)]\tLoss: 0.157545\n",
      "Train Epoch: 2 [10240/60000 (17%)]\tLoss: 0.207837\n",
      "Train Epoch: 2 [10880/60000 (18%)]\tLoss: 0.269773\n",
      "Train Epoch: 2 [11520/60000 (19%)]\tLoss: 0.384388\n",
      "Train Epoch: 2 [12160/60000 (20%)]\tLoss: 0.263050\n",
      "Train Epoch: 2 [12800/60000 (21%)]\tLoss: 0.126230\n",
      "Train Epoch: 2 [13440/60000 (22%)]\tLoss: 0.165017\n",
      "Train Epoch: 2 [14080/60000 (23%)]\tLoss: 0.151174\n",
      "Train Epoch: 2 [14720/60000 (25%)]\tLoss: 0.253048\n",
      "Train Epoch: 2 [15360/60000 (26%)]\tLoss: 0.179723\n",
      "Train Epoch: 2 [16000/60000 (27%)]\tLoss: 0.226841\n",
      "Train Epoch: 2 [16640/60000 (28%)]\tLoss: 0.293307\n",
      "Train Epoch: 2 [17280/60000 (29%)]\tLoss: 0.284192\n",
      "Train Epoch: 2 [17920/60000 (30%)]\tLoss: 0.192598\n",
      "Train Epoch: 2 [18560/60000 (31%)]\tLoss: 0.211653\n",
      "Train Epoch: 2 [19200/60000 (32%)]\tLoss: 0.252290\n",
      "Train Epoch: 2 [19840/60000 (33%)]\tLoss: 0.226408\n",
      "Train Epoch: 2 [20480/60000 (34%)]\tLoss: 0.308992\n",
      "Train Epoch: 2 [21120/60000 (35%)]\tLoss: 0.214391\n",
      "Train Epoch: 2 [21760/60000 (36%)]\tLoss: 0.285269\n",
      "Train Epoch: 2 [22400/60000 (37%)]\tLoss: 0.214880\n",
      "Train Epoch: 2 [23040/60000 (38%)]\tLoss: 0.257124\n",
      "Train Epoch: 2 [23680/60000 (39%)]\tLoss: 0.287377\n",
      "Train Epoch: 2 [24320/60000 (41%)]\tLoss: 0.123496\n",
      "Train Epoch: 2 [24960/60000 (42%)]\tLoss: 0.102587\n",
      "Train Epoch: 2 [25600/60000 (43%)]\tLoss: 0.244940\n",
      "Train Epoch: 2 [26240/60000 (44%)]\tLoss: 0.195994\n",
      "Train Epoch: 2 [26880/60000 (45%)]\tLoss: 0.263969\n",
      "Train Epoch: 2 [27520/60000 (46%)]\tLoss: 0.203692\n",
      "Train Epoch: 2 [28160/60000 (47%)]\tLoss: 0.369998\n",
      "Train Epoch: 2 [28800/60000 (48%)]\tLoss: 0.261219\n",
      "Train Epoch: 2 [29440/60000 (49%)]\tLoss: 0.161507\n",
      "Train Epoch: 2 [30080/60000 (50%)]\tLoss: 0.186784\n",
      "Train Epoch: 2 [30720/60000 (51%)]\tLoss: 0.307566\n",
      "Train Epoch: 2 [31360/60000 (52%)]\tLoss: 0.141732\n",
      "Train Epoch: 2 [32000/60000 (53%)]\tLoss: 0.239878\n",
      "Train Epoch: 2 [32640/60000 (54%)]\tLoss: 0.198917\n",
      "Train Epoch: 2 [33280/60000 (55%)]\tLoss: 0.061840\n",
      "Train Epoch: 2 [33920/60000 (57%)]\tLoss: 0.204092\n",
      "Train Epoch: 2 [34560/60000 (58%)]\tLoss: 0.223614\n",
      "Train Epoch: 2 [35200/60000 (59%)]\tLoss: 0.073802\n",
      "Train Epoch: 2 [35840/60000 (60%)]\tLoss: 0.059265\n",
      "Train Epoch: 2 [36480/60000 (61%)]\tLoss: 0.293767\n",
      "Train Epoch: 2 [37120/60000 (62%)]\tLoss: 0.338091\n",
      "Train Epoch: 2 [37760/60000 (63%)]\tLoss: 0.278844\n",
      "Train Epoch: 2 [38400/60000 (64%)]\tLoss: 0.351038\n",
      "Train Epoch: 2 [39040/60000 (65%)]\tLoss: 0.174209\n",
      "Train Epoch: 2 [39680/60000 (66%)]\tLoss: 0.208292\n",
      "Train Epoch: 2 [40320/60000 (67%)]\tLoss: 0.236924\n",
      "Train Epoch: 2 [40960/60000 (68%)]\tLoss: 0.231565\n",
      "Train Epoch: 2 [41600/60000 (69%)]\tLoss: 0.223570\n",
      "Train Epoch: 2 [42240/60000 (70%)]\tLoss: 0.115553\n",
      "Train Epoch: 2 [42880/60000 (71%)]\tLoss: 0.190266\n",
      "Train Epoch: 2 [43520/60000 (72%)]\tLoss: 0.256060\n"
     ]
    },
    {
     "name": "stdout",
     "output_type": "stream",
     "text": [
      "Train Epoch: 2 [44160/60000 (74%)]\tLoss: 0.163858\n",
      "Train Epoch: 2 [44800/60000 (75%)]\tLoss: 0.302612\n",
      "Train Epoch: 2 [45440/60000 (76%)]\tLoss: 0.139421\n",
      "Train Epoch: 2 [46080/60000 (77%)]\tLoss: 0.146004\n",
      "Train Epoch: 2 [46720/60000 (78%)]\tLoss: 0.139796\n",
      "Train Epoch: 2 [47360/60000 (79%)]\tLoss: 0.191366\n",
      "Train Epoch: 2 [48000/60000 (80%)]\tLoss: 0.385689\n",
      "Train Epoch: 2 [48640/60000 (81%)]\tLoss: 0.181254\n",
      "Train Epoch: 2 [49280/60000 (82%)]\tLoss: 0.199145\n",
      "Train Epoch: 2 [49920/60000 (83%)]\tLoss: 0.196278\n",
      "Train Epoch: 2 [50560/60000 (84%)]\tLoss: 0.286439\n",
      "Train Epoch: 2 [51200/60000 (85%)]\tLoss: 0.200160\n",
      "Train Epoch: 2 [51840/60000 (86%)]\tLoss: 0.293561\n",
      "Train Epoch: 2 [52480/60000 (87%)]\tLoss: 0.123363\n",
      "Train Epoch: 2 [53120/60000 (88%)]\tLoss: 0.174826\n",
      "Train Epoch: 2 [53760/60000 (90%)]\tLoss: 0.197332\n",
      "Train Epoch: 2 [54400/60000 (91%)]\tLoss: 0.157785\n",
      "Train Epoch: 2 [55040/60000 (92%)]\tLoss: 0.154701\n",
      "Train Epoch: 2 [55680/60000 (93%)]\tLoss: 0.098969\n",
      "Train Epoch: 2 [56320/60000 (94%)]\tLoss: 0.198122\n",
      "Train Epoch: 2 [56960/60000 (95%)]\tLoss: 0.251356\n",
      "Train Epoch: 2 [57600/60000 (96%)]\tLoss: 0.176707\n",
      "Train Epoch: 2 [58240/60000 (97%)]\tLoss: 0.180969\n",
      "Train Epoch: 2 [58880/60000 (98%)]\tLoss: 0.301994\n",
      "Train Epoch: 2 [59520/60000 (99%)]\tLoss: 0.205481\n",
      "\n",
      "Test set: Avg. loss: 0.0720, Accuracy: 9765/10000 (98%)\n",
      "\n",
      "Train Epoch: 3 [0/60000 (0%)]\tLoss: 0.238263\n",
      "Train Epoch: 3 [640/60000 (1%)]\tLoss: 0.170078\n",
      "Train Epoch: 3 [1280/60000 (2%)]\tLoss: 0.290994\n",
      "Train Epoch: 3 [1920/60000 (3%)]\tLoss: 0.125341\n",
      "Train Epoch: 3 [2560/60000 (4%)]\tLoss: 0.121881\n",
      "Train Epoch: 3 [3200/60000 (5%)]\tLoss: 0.172850\n",
      "Train Epoch: 3 [3840/60000 (6%)]\tLoss: 0.176857\n",
      "Train Epoch: 3 [4480/60000 (7%)]\tLoss: 0.208744\n",
      "Train Epoch: 3 [5120/60000 (9%)]\tLoss: 0.148693\n",
      "Train Epoch: 3 [5760/60000 (10%)]\tLoss: 0.187952\n",
      "Train Epoch: 3 [6400/60000 (11%)]\tLoss: 0.407244\n",
      "Train Epoch: 3 [7040/60000 (12%)]\tLoss: 0.228751\n",
      "Train Epoch: 3 [7680/60000 (13%)]\tLoss: 0.268895\n",
      "Train Epoch: 3 [8320/60000 (14%)]\tLoss: 0.101166\n",
      "Train Epoch: 3 [8960/60000 (15%)]\tLoss: 0.239585\n",
      "Train Epoch: 3 [9600/60000 (16%)]\tLoss: 0.168097\n",
      "Train Epoch: 3 [10240/60000 (17%)]\tLoss: 0.275623\n",
      "Train Epoch: 3 [10880/60000 (18%)]\tLoss: 0.125944\n",
      "Train Epoch: 3 [11520/60000 (19%)]\tLoss: 0.366387\n",
      "Train Epoch: 3 [12160/60000 (20%)]\tLoss: 0.167351\n",
      "Train Epoch: 3 [12800/60000 (21%)]\tLoss: 0.260566\n",
      "Train Epoch: 3 [13440/60000 (22%)]\tLoss: 0.537931\n",
      "Train Epoch: 3 [14080/60000 (23%)]\tLoss: 0.205511\n",
      "Train Epoch: 3 [14720/60000 (25%)]\tLoss: 0.208757\n",
      "Train Epoch: 3 [15360/60000 (26%)]\tLoss: 0.104200\n",
      "Train Epoch: 3 [16000/60000 (27%)]\tLoss: 0.143087\n",
      "Train Epoch: 3 [16640/60000 (28%)]\tLoss: 0.152635\n",
      "Train Epoch: 3 [17280/60000 (29%)]\tLoss: 0.153068\n",
      "Train Epoch: 3 [17920/60000 (30%)]\tLoss: 0.212720\n",
      "Train Epoch: 3 [18560/60000 (31%)]\tLoss: 0.208572\n",
      "Train Epoch: 3 [19200/60000 (32%)]\tLoss: 0.195305\n",
      "Train Epoch: 3 [19840/60000 (33%)]\tLoss: 0.330657\n",
      "Train Epoch: 3 [20480/60000 (34%)]\tLoss: 0.065713\n",
      "Train Epoch: 3 [21120/60000 (35%)]\tLoss: 0.151438\n",
      "Train Epoch: 3 [21760/60000 (36%)]\tLoss: 0.246223\n",
      "Train Epoch: 3 [22400/60000 (37%)]\tLoss: 0.135686\n",
      "Train Epoch: 3 [23040/60000 (38%)]\tLoss: 0.166630\n",
      "Train Epoch: 3 [23680/60000 (39%)]\tLoss: 0.270432\n",
      "Train Epoch: 3 [24320/60000 (41%)]\tLoss: 0.370676\n",
      "Train Epoch: 3 [24960/60000 (42%)]\tLoss: 0.257790\n",
      "Train Epoch: 3 [25600/60000 (43%)]\tLoss: 0.164949\n",
      "Train Epoch: 3 [26240/60000 (44%)]\tLoss: 0.103833\n",
      "Train Epoch: 3 [26880/60000 (45%)]\tLoss: 0.171567\n",
      "Train Epoch: 3 [27520/60000 (46%)]\tLoss: 0.224758\n",
      "Train Epoch: 3 [28160/60000 (47%)]\tLoss: 0.134911\n",
      "Train Epoch: 3 [28800/60000 (48%)]\tLoss: 0.256098\n",
      "Train Epoch: 3 [29440/60000 (49%)]\tLoss: 0.239742\n",
      "Train Epoch: 3 [30080/60000 (50%)]\tLoss: 0.171103\n",
      "Train Epoch: 3 [30720/60000 (51%)]\tLoss: 0.438692\n",
      "Train Epoch: 3 [31360/60000 (52%)]\tLoss: 0.272596\n",
      "Train Epoch: 3 [32000/60000 (53%)]\tLoss: 0.183772\n",
      "Train Epoch: 3 [32640/60000 (54%)]\tLoss: 0.360292\n",
      "Train Epoch: 3 [33280/60000 (55%)]\tLoss: 0.344801\n",
      "Train Epoch: 3 [33920/60000 (57%)]\tLoss: 0.154069\n",
      "Train Epoch: 3 [34560/60000 (58%)]\tLoss: 0.173304\n",
      "Train Epoch: 3 [35200/60000 (59%)]\tLoss: 0.282482\n",
      "Train Epoch: 3 [35840/60000 (60%)]\tLoss: 0.211244\n",
      "Train Epoch: 3 [36480/60000 (61%)]\tLoss: 0.250374\n",
      "Train Epoch: 3 [37120/60000 (62%)]\tLoss: 0.367744\n",
      "Train Epoch: 3 [37760/60000 (63%)]\tLoss: 0.263926\n",
      "Train Epoch: 3 [38400/60000 (64%)]\tLoss: 0.111422\n",
      "Train Epoch: 3 [39040/60000 (65%)]\tLoss: 0.413747\n",
      "Train Epoch: 3 [39680/60000 (66%)]\tLoss: 0.150592\n",
      "Train Epoch: 3 [40320/60000 (67%)]\tLoss: 0.202591\n",
      "Train Epoch: 3 [40960/60000 (68%)]\tLoss: 0.180916\n",
      "Train Epoch: 3 [41600/60000 (69%)]\tLoss: 0.265018\n",
      "Train Epoch: 3 [42240/60000 (70%)]\tLoss: 0.216304\n",
      "Train Epoch: 3 [42880/60000 (71%)]\tLoss: 0.199377\n",
      "Train Epoch: 3 [43520/60000 (72%)]\tLoss: 0.102301\n",
      "Train Epoch: 3 [44160/60000 (74%)]\tLoss: 0.075836\n",
      "Train Epoch: 3 [44800/60000 (75%)]\tLoss: 0.150874\n",
      "Train Epoch: 3 [45440/60000 (76%)]\tLoss: 0.307839\n",
      "Train Epoch: 3 [46080/60000 (77%)]\tLoss: 0.134745\n",
      "Train Epoch: 3 [46720/60000 (78%)]\tLoss: 0.261416\n",
      "Train Epoch: 3 [47360/60000 (79%)]\tLoss: 0.133856\n",
      "Train Epoch: 3 [48000/60000 (80%)]\tLoss: 0.338096\n",
      "Train Epoch: 3 [48640/60000 (81%)]\tLoss: 0.082139\n",
      "Train Epoch: 3 [49280/60000 (82%)]\tLoss: 0.092685\n",
      "Train Epoch: 3 [49920/60000 (83%)]\tLoss: 0.215010\n",
      "Train Epoch: 3 [50560/60000 (84%)]\tLoss: 0.123568\n",
      "Train Epoch: 3 [51200/60000 (85%)]\tLoss: 0.298190\n",
      "Train Epoch: 3 [51840/60000 (86%)]\tLoss: 0.133503\n",
      "Train Epoch: 3 [52480/60000 (87%)]\tLoss: 0.208494\n",
      "Train Epoch: 3 [53120/60000 (88%)]\tLoss: 0.118874\n",
      "Train Epoch: 3 [53760/60000 (90%)]\tLoss: 0.222784\n",
      "Train Epoch: 3 [54400/60000 (91%)]\tLoss: 0.154634\n",
      "Train Epoch: 3 [55040/60000 (92%)]\tLoss: 0.128973\n",
      "Train Epoch: 3 [55680/60000 (93%)]\tLoss: 0.184560\n",
      "Train Epoch: 3 [56320/60000 (94%)]\tLoss: 0.142877\n",
      "Train Epoch: 3 [56960/60000 (95%)]\tLoss: 0.155643\n",
      "Train Epoch: 3 [57600/60000 (96%)]\tLoss: 0.244409\n",
      "Train Epoch: 3 [58240/60000 (97%)]\tLoss: 0.142737\n",
      "Train Epoch: 3 [58880/60000 (98%)]\tLoss: 0.493419\n",
      "Train Epoch: 3 [59520/60000 (99%)]\tLoss: 0.169097\n",
      "\n",
      "Test set: Avg. loss: 0.0645, Accuracy: 9806/10000 (98%)\n",
      "\n"
     ]
    }
   ],
   "source": [
    "test()\n",
    "for epoch in range(1, n_epochs + 1):\n",
    "    train(epoch)\n",
    "    test()"
   ]
  },
  {
   "cell_type": "code",
   "execution_count": 39,
   "metadata": {},
   "outputs": [
    {
     "data": {
      "image/png": "[encoded data removed]",
      "text/plain": [
       "<Figure size 432x288 with 1 Axes>"
      ]
     },
     "execution_count": 39,
     "metadata": {},
     "output_type": "execute_result"
    },
    {
     "data": {
      "image/png": "[encoded data removed]",
      "text/plain": [
       "<Figure size 432x288 with 1 Axes>"
      ]
     },
     "metadata": {
      "needs_background": "light"
     },
     "output_type": "display_data"
    }
   ],
   "source": [
    "fig = plt.figure()\n",
    "plt.plot(train_counter, train_losses, color='blue')\n",
    "plt.scatter(test_counter, test_losses, color='red')\n",
    "plt.legend(['Train Loss', 'Test Loss'], loc='upper right')\n",
    "plt.xlabel('number of training examples seen')\n",
    "plt.ylabel('negative log likelihood loss')\n",
    "fig"
   ]
  },
  {
   "cell_type": "code",
   "execution_count": 40,
   "metadata": {},
   "outputs": [
    {
     "name": "stderr",
     "output_type": "stream",
     "text": [
      "/home/nabegh/Anaconda3/envs/kaggle/lib/python3.7/site-packages/ipykernel_launcher.py:17: UserWarning: Implicit dimension choice for log_softmax has been deprecated. Change the call to include dim=X as an argument.\n"
     ]
    }
   ],
   "source": [
    "with torch.no_grad():\n",
    "    output = network(example_data)"
   ]
  },
  {
   "cell_type": "code",
   "execution_count": 41,
   "metadata": {},
   "outputs": [
    {
     "data": {
      "image/png": "[encoded data removed]",
      "text/plain": [
       "<Figure size 432x288 with 6 Axes>"
      ]
     },
     "execution_count": 41,
     "metadata": {},
     "output_type": "execute_result"
    },
    {
     "data": {
      "image/png": "[encoded data removed]",
      "text/plain": [
       "<Figure size 432x288 with 6 Axes>"
      ]
     },
     "metadata": {},
     "output_type": "display_data"
    }
   ],
   "source": [
    "fig = plt.figure()\n",
    "for i in range(6):\n",
    "    plt.subplot(2,3,i+1)\n",
    "    plt.tight_layout()\n",
    "    plt.imshow(example_data[i][0], cmap='gray', interpolation='none')\n",
    "    plt.title(\"Prediction: {}\".format(\n",
    "        output.data.max(1, keepdim=True)[1][i].item()))\n",
    "    plt.xticks([])\n",
    "    plt.yticks([])\n",
    "fig"
   ]
  },
  {
   "cell_type": "code",
   "execution_count": 44,
   "metadata": {},
   "outputs": [
    {
     "data": {
      "text/plain": [
       "torch.Size([28, 28])"
      ]
     },
     "execution_count": 44,
     "metadata": {},
     "output_type": "execute_result"
    }
   ],
   "source": [
    "example_data[0][0].shape"
   ]
  },
  {
   "cell_type": "code",
   "execution_count": null,
   "metadata": {},
   "outputs": [],
   "source": []
  }
 ],
 "metadata": {
  "kernelspec": {
   "display_name": "Python 3",
   "language": "python",
   "name": "python3"
  },
  "language_info": {
   "codemirror_mode": {
    "name": "ipython",
    "version": 3
   },
   "file_extension": ".py",
   "mimetype": "text/x-python",
   "name": "python",
   "nbconvert_exporter": "python",
   "pygments_lexer": "ipython3",
   "version": "3.7.4"
  }
 },
 "nbformat": 4,
 "nbformat_minor": 5
}
